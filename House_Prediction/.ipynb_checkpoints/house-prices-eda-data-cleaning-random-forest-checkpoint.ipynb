{
 "cells": [
  {
   "cell_type": "markdown",
   "metadata": {
    "papermill": {
     "duration": 0.046916,
     "end_time": "2020-09-20T13:19:54.248868",
     "exception": false,
     "start_time": "2020-09-20T13:19:54.201952",
     "status": "completed"
    },
    "tags": []
   },
   "source": [
    "### first approach on dealing with the House Prices competition: EDA, Data Wrangling and Random Forest."
   ]
  },
  {
   "cell_type": "markdown",
   "metadata": {
    "papermill": {
     "duration": 0.042176,
     "end_time": "2020-09-20T13:19:54.334185",
     "exception": false,
     "start_time": "2020-09-20T13:19:54.292009",
     "status": "completed"
    },
    "tags": []
   },
   "source": [
    "## Load libraries"
   ]
  },
  {
   "cell_type": "code",
   "execution_count": 1,
   "metadata": {
    "_cell_guid": "b1076dfc-b9ad-4769-8c92-a6c4dae69d19",
    "_uuid": "8f2839f25d086af736a60e9eeb907d3b93b6e0e5",
    "execution": {
     "iopub.execute_input": "2020-09-20T13:19:54.43096Z",
     "iopub.status.busy": "2020-09-20T13:19:54.430045Z",
     "iopub.status.idle": "2020-09-20T13:19:55.894355Z",
     "shell.execute_reply": "2020-09-20T13:19:55.893475Z"
    },
    "papermill": {
     "duration": 1.517237,
     "end_time": "2020-09-20T13:19:55.894496",
     "exception": false,
     "start_time": "2020-09-20T13:19:54.377259",
     "status": "completed"
    },
    "tags": []
   },
   "outputs": [],
   "source": [
    "# Vectorized code\n",
    "import numpy as np\n",
    "# Data analysis\n",
    "import pandas as pd\n",
    "\n",
    "# Plotting\n",
    "import matplotlib.pyplot as plt\n",
    "import seaborn as sns\n",
    "\n",
    "# Scikit-Learn Power!\n",
    "from sklearn import metrics\n",
    "from sklearn.impute import SimpleImputer\n",
    "from sklearn.preprocessing import LabelEncoder\n",
    "from sklearn.preprocessing import StandardScaler\n",
    "from sklearn.ensemble import RandomForestRegressor\n",
    "from sklearn.model_selection import train_test_split\n",
    "\n",
    "import copy"
   ]
  },
  {
   "cell_type": "markdown",
   "metadata": {
    "papermill": {
     "duration": 0.042929,
     "end_time": "2020-09-20T13:19:55.981511",
     "exception": false,
     "start_time": "2020-09-20T13:19:55.938582",
     "status": "completed"
    },
    "tags": []
   },
   "source": [
    "## Load data"
   ]
  },
  {
   "cell_type": "code",
   "execution_count": 2,
   "metadata": {
    "_cell_guid": "79c7e3d0-c299-4dcb-8224-4455121ee9b0",
    "_uuid": "d629ff2d2480ee46fbb7e2d37f6b5fab8052498a",
    "execution": {
     "iopub.execute_input": "2020-09-20T13:19:56.079328Z",
     "iopub.status.busy": "2020-09-20T13:19:56.078258Z",
     "iopub.status.idle": "2020-09-20T13:19:56.170634Z",
     "shell.execute_reply": "2020-09-20T13:19:56.169861Z"
    },
    "papermill": {
     "duration": 0.145347,
     "end_time": "2020-09-20T13:19:56.170771",
     "exception": false,
     "start_time": "2020-09-20T13:19:56.025424",
     "status": "completed"
    },
    "tags": []
   },
   "outputs": [],
   "source": [
    "train = pd.read_csv('train.csv')\n",
    "test = pd.read_csv('test.csv')\n",
    "sample_submission = pd.read_csv('sample_submission.csv')"
   ]
  },
  {
   "cell_type": "markdown",
   "metadata": {
    "papermill": {
     "duration": 0.043393,
     "end_time": "2020-09-20T13:19:56.25727",
     "exception": false,
     "start_time": "2020-09-20T13:19:56.213877",
     "status": "completed"
    },
    "tags": []
   },
   "source": [
    "## First look at our testing data"
   ]
  },
  {
   "cell_type": "code",
   "execution_count": 3,
   "metadata": {
    "execution": {
     "iopub.execute_input": "2020-09-20T13:19:56.377181Z",
     "iopub.status.busy": "2020-09-20T13:19:56.354004Z",
     "iopub.status.idle": "2020-09-20T13:19:56.397124Z",
     "shell.execute_reply": "2020-09-20T13:19:56.396281Z"
    },
    "papermill": {
     "duration": 0.096692,
     "end_time": "2020-09-20T13:19:56.397268",
     "exception": false,
     "start_time": "2020-09-20T13:19:56.300576",
     "status": "completed"
    },
    "tags": []
   },
   "outputs": [
    {
     "data": {
      "text/html": [
       "<div>\n",
       "<style scoped>\n",
       "    .dataframe tbody tr th:only-of-type {\n",
       "        vertical-align: middle;\n",
       "    }\n",
       "\n",
       "    .dataframe tbody tr th {\n",
       "        vertical-align: top;\n",
       "    }\n",
       "\n",
       "    .dataframe thead th {\n",
       "        text-align: right;\n",
       "    }\n",
       "</style>\n",
       "<table border=\"1\" class=\"dataframe\">\n",
       "  <thead>\n",
       "    <tr style=\"text-align: right;\">\n",
       "      <th></th>\n",
       "      <th>Id</th>\n",
       "      <th>MSSubClass</th>\n",
       "      <th>MSZoning</th>\n",
       "      <th>LotFrontage</th>\n",
       "      <th>LotArea</th>\n",
       "      <th>Street</th>\n",
       "      <th>Alley</th>\n",
       "      <th>LotShape</th>\n",
       "      <th>LandContour</th>\n",
       "      <th>Utilities</th>\n",
       "      <th>...</th>\n",
       "      <th>PoolArea</th>\n",
       "      <th>PoolQC</th>\n",
       "      <th>Fence</th>\n",
       "      <th>MiscFeature</th>\n",
       "      <th>MiscVal</th>\n",
       "      <th>MoSold</th>\n",
       "      <th>YrSold</th>\n",
       "      <th>SaleType</th>\n",
       "      <th>SaleCondition</th>\n",
       "      <th>SalePrice</th>\n",
       "    </tr>\n",
       "  </thead>\n",
       "  <tbody>\n",
       "    <tr>\n",
       "      <td>0</td>\n",
       "      <td>1</td>\n",
       "      <td>60</td>\n",
       "      <td>RL</td>\n",
       "      <td>65.0</td>\n",
       "      <td>8450</td>\n",
       "      <td>Pave</td>\n",
       "      <td>NaN</td>\n",
       "      <td>Reg</td>\n",
       "      <td>Lvl</td>\n",
       "      <td>AllPub</td>\n",
       "      <td>...</td>\n",
       "      <td>0</td>\n",
       "      <td>NaN</td>\n",
       "      <td>NaN</td>\n",
       "      <td>NaN</td>\n",
       "      <td>0</td>\n",
       "      <td>2</td>\n",
       "      <td>2008</td>\n",
       "      <td>WD</td>\n",
       "      <td>Normal</td>\n",
       "      <td>208500</td>\n",
       "    </tr>\n",
       "    <tr>\n",
       "      <td>1</td>\n",
       "      <td>2</td>\n",
       "      <td>20</td>\n",
       "      <td>RL</td>\n",
       "      <td>80.0</td>\n",
       "      <td>9600</td>\n",
       "      <td>Pave</td>\n",
       "      <td>NaN</td>\n",
       "      <td>Reg</td>\n",
       "      <td>Lvl</td>\n",
       "      <td>AllPub</td>\n",
       "      <td>...</td>\n",
       "      <td>0</td>\n",
       "      <td>NaN</td>\n",
       "      <td>NaN</td>\n",
       "      <td>NaN</td>\n",
       "      <td>0</td>\n",
       "      <td>5</td>\n",
       "      <td>2007</td>\n",
       "      <td>WD</td>\n",
       "      <td>Normal</td>\n",
       "      <td>181500</td>\n",
       "    </tr>\n",
       "    <tr>\n",
       "      <td>2</td>\n",
       "      <td>3</td>\n",
       "      <td>60</td>\n",
       "      <td>RL</td>\n",
       "      <td>68.0</td>\n",
       "      <td>11250</td>\n",
       "      <td>Pave</td>\n",
       "      <td>NaN</td>\n",
       "      <td>IR1</td>\n",
       "      <td>Lvl</td>\n",
       "      <td>AllPub</td>\n",
       "      <td>...</td>\n",
       "      <td>0</td>\n",
       "      <td>NaN</td>\n",
       "      <td>NaN</td>\n",
       "      <td>NaN</td>\n",
       "      <td>0</td>\n",
       "      <td>9</td>\n",
       "      <td>2008</td>\n",
       "      <td>WD</td>\n",
       "      <td>Normal</td>\n",
       "      <td>223500</td>\n",
       "    </tr>\n",
       "    <tr>\n",
       "      <td>3</td>\n",
       "      <td>4</td>\n",
       "      <td>70</td>\n",
       "      <td>RL</td>\n",
       "      <td>60.0</td>\n",
       "      <td>9550</td>\n",
       "      <td>Pave</td>\n",
       "      <td>NaN</td>\n",
       "      <td>IR1</td>\n",
       "      <td>Lvl</td>\n",
       "      <td>AllPub</td>\n",
       "      <td>...</td>\n",
       "      <td>0</td>\n",
       "      <td>NaN</td>\n",
       "      <td>NaN</td>\n",
       "      <td>NaN</td>\n",
       "      <td>0</td>\n",
       "      <td>2</td>\n",
       "      <td>2006</td>\n",
       "      <td>WD</td>\n",
       "      <td>Abnorml</td>\n",
       "      <td>140000</td>\n",
       "    </tr>\n",
       "    <tr>\n",
       "      <td>4</td>\n",
       "      <td>5</td>\n",
       "      <td>60</td>\n",
       "      <td>RL</td>\n",
       "      <td>84.0</td>\n",
       "      <td>14260</td>\n",
       "      <td>Pave</td>\n",
       "      <td>NaN</td>\n",
       "      <td>IR1</td>\n",
       "      <td>Lvl</td>\n",
       "      <td>AllPub</td>\n",
       "      <td>...</td>\n",
       "      <td>0</td>\n",
       "      <td>NaN</td>\n",
       "      <td>NaN</td>\n",
       "      <td>NaN</td>\n",
       "      <td>0</td>\n",
       "      <td>12</td>\n",
       "      <td>2008</td>\n",
       "      <td>WD</td>\n",
       "      <td>Normal</td>\n",
       "      <td>250000</td>\n",
       "    </tr>\n",
       "  </tbody>\n",
       "</table>\n",
       "<p>5 rows × 81 columns</p>\n",
       "</div>"
      ],
      "text/plain": [
       "   Id  MSSubClass MSZoning  LotFrontage  LotArea Street Alley LotShape  \\\n",
       "0   1          60       RL         65.0     8450   Pave   NaN      Reg   \n",
       "1   2          20       RL         80.0     9600   Pave   NaN      Reg   \n",
       "2   3          60       RL         68.0    11250   Pave   NaN      IR1   \n",
       "3   4          70       RL         60.0     9550   Pave   NaN      IR1   \n",
       "4   5          60       RL         84.0    14260   Pave   NaN      IR1   \n",
       "\n",
       "  LandContour Utilities  ... PoolArea PoolQC Fence MiscFeature MiscVal MoSold  \\\n",
       "0         Lvl    AllPub  ...        0    NaN   NaN         NaN       0      2   \n",
       "1         Lvl    AllPub  ...        0    NaN   NaN         NaN       0      5   \n",
       "2         Lvl    AllPub  ...        0    NaN   NaN         NaN       0      9   \n",
       "3         Lvl    AllPub  ...        0    NaN   NaN         NaN       0      2   \n",
       "4         Lvl    AllPub  ...        0    NaN   NaN         NaN       0     12   \n",
       "\n",
       "  YrSold  SaleType  SaleCondition  SalePrice  \n",
       "0   2008        WD         Normal     208500  \n",
       "1   2007        WD         Normal     181500  \n",
       "2   2008        WD         Normal     223500  \n",
       "3   2006        WD        Abnorml     140000  \n",
       "4   2008        WD         Normal     250000  \n",
       "\n",
       "[5 rows x 81 columns]"
      ]
     },
     "execution_count": 3,
     "metadata": {},
     "output_type": "execute_result"
    }
   ],
   "source": [
    "train.head()"
   ]
  },
  {
   "cell_type": "markdown",
   "metadata": {
    "papermill": {
     "duration": 0.044113,
     "end_time": "2020-09-20T13:19:56.485522",
     "exception": false,
     "start_time": "2020-09-20T13:19:56.441409",
     "status": "completed"
    },
    "tags": []
   },
   "source": [
    "## First look for missing values + data types"
   ]
  },
  {
   "cell_type": "code",
   "execution_count": 4,
   "metadata": {
    "execution": {
     "iopub.execute_input": "2020-09-20T13:19:56.590008Z",
     "iopub.status.busy": "2020-09-20T13:19:56.589166Z",
     "iopub.status.idle": "2020-09-20T13:19:56.616675Z",
     "shell.execute_reply": "2020-09-20T13:19:56.617258Z"
    },
    "papermill": {
     "duration": 0.087902,
     "end_time": "2020-09-20T13:19:56.617472",
     "exception": false,
     "start_time": "2020-09-20T13:19:56.52957",
     "status": "completed"
    },
    "tags": []
   },
   "outputs": [
    {
     "name": "stdout",
     "output_type": "stream",
     "text": [
      "<class 'pandas.core.frame.DataFrame'>\n",
      "RangeIndex: 1460 entries, 0 to 1459\n",
      "Data columns (total 81 columns):\n",
      "Id               1460 non-null int64\n",
      "MSSubClass       1460 non-null int64\n",
      "MSZoning         1460 non-null object\n",
      "LotFrontage      1201 non-null float64\n",
      "LotArea          1460 non-null int64\n",
      "Street           1460 non-null object\n",
      "Alley            91 non-null object\n",
      "LotShape         1460 non-null object\n",
      "LandContour      1460 non-null object\n",
      "Utilities        1460 non-null object\n",
      "LotConfig        1460 non-null object\n",
      "LandSlope        1460 non-null object\n",
      "Neighborhood     1460 non-null object\n",
      "Condition1       1460 non-null object\n",
      "Condition2       1460 non-null object\n",
      "BldgType         1460 non-null object\n",
      "HouseStyle       1460 non-null object\n",
      "OverallQual      1460 non-null int64\n",
      "OverallCond      1460 non-null int64\n",
      "YearBuilt        1460 non-null int64\n",
      "YearRemodAdd     1460 non-null int64\n",
      "RoofStyle        1460 non-null object\n",
      "RoofMatl         1460 non-null object\n",
      "Exterior1st      1460 non-null object\n",
      "Exterior2nd      1460 non-null object\n",
      "MasVnrType       1452 non-null object\n",
      "MasVnrArea       1452 non-null float64\n",
      "ExterQual        1460 non-null object\n",
      "ExterCond        1460 non-null object\n",
      "Foundation       1460 non-null object\n",
      "BsmtQual         1423 non-null object\n",
      "BsmtCond         1423 non-null object\n",
      "BsmtExposure     1422 non-null object\n",
      "BsmtFinType1     1423 non-null object\n",
      "BsmtFinSF1       1460 non-null int64\n",
      "BsmtFinType2     1422 non-null object\n",
      "BsmtFinSF2       1460 non-null int64\n",
      "BsmtUnfSF        1460 non-null int64\n",
      "TotalBsmtSF      1460 non-null int64\n",
      "Heating          1460 non-null object\n",
      "HeatingQC        1460 non-null object\n",
      "CentralAir       1460 non-null object\n",
      "Electrical       1459 non-null object\n",
      "1stFlrSF         1460 non-null int64\n",
      "2ndFlrSF         1460 non-null int64\n",
      "LowQualFinSF     1460 non-null int64\n",
      "GrLivArea        1460 non-null int64\n",
      "BsmtFullBath     1460 non-null int64\n",
      "BsmtHalfBath     1460 non-null int64\n",
      "FullBath         1460 non-null int64\n",
      "HalfBath         1460 non-null int64\n",
      "BedroomAbvGr     1460 non-null int64\n",
      "KitchenAbvGr     1460 non-null int64\n",
      "KitchenQual      1460 non-null object\n",
      "TotRmsAbvGrd     1460 non-null int64\n",
      "Functional       1460 non-null object\n",
      "Fireplaces       1460 non-null int64\n",
      "FireplaceQu      770 non-null object\n",
      "GarageType       1379 non-null object\n",
      "GarageYrBlt      1379 non-null float64\n",
      "GarageFinish     1379 non-null object\n",
      "GarageCars       1460 non-null int64\n",
      "GarageArea       1460 non-null int64\n",
      "GarageQual       1379 non-null object\n",
      "GarageCond       1379 non-null object\n",
      "PavedDrive       1460 non-null object\n",
      "WoodDeckSF       1460 non-null int64\n",
      "OpenPorchSF      1460 non-null int64\n",
      "EnclosedPorch    1460 non-null int64\n",
      "3SsnPorch        1460 non-null int64\n",
      "ScreenPorch      1460 non-null int64\n",
      "PoolArea         1460 non-null int64\n",
      "PoolQC           7 non-null object\n",
      "Fence            281 non-null object\n",
      "MiscFeature      54 non-null object\n",
      "MiscVal          1460 non-null int64\n",
      "MoSold           1460 non-null int64\n",
      "YrSold           1460 non-null int64\n",
      "SaleType         1460 non-null object\n",
      "SaleCondition    1460 non-null object\n",
      "SalePrice        1460 non-null int64\n",
      "dtypes: float64(3), int64(35), object(43)\n",
      "memory usage: 924.0+ KB\n"
     ]
    }
   ],
   "source": [
    "train.info()"
   ]
  },
  {
   "cell_type": "markdown",
   "metadata": {
    "papermill": {
     "duration": 0.045149,
     "end_time": "2020-09-20T13:19:56.707979",
     "exception": false,
     "start_time": "2020-09-20T13:19:56.66283",
     "status": "completed"
    },
    "tags": []
   },
   "source": [
    "## Target distribution"
   ]
  },
  {
   "cell_type": "code",
   "execution_count": 5,
   "metadata": {
    "execution": {
     "iopub.execute_input": "2020-09-20T13:19:56.830104Z",
     "iopub.status.busy": "2020-09-20T13:19:56.829251Z",
     "iopub.status.idle": "2020-09-20T13:19:57.29981Z",
     "shell.execute_reply": "2020-09-20T13:19:57.299017Z"
    },
    "papermill": {
     "duration": 0.537741,
     "end_time": "2020-09-20T13:19:57.299966",
     "exception": false,
     "start_time": "2020-09-20T13:19:56.762225",
     "status": "completed"
    },
    "tags": []
   },
   "outputs": [
    {
     "data": {
      "text/plain": [
       "<matplotlib.axes._subplots.AxesSubplot at 0x1fc101d7b88>"
      ]
     },
     "execution_count": 5,
     "metadata": {},
     "output_type": "execute_result"
    },
    {
     "data": {
      "image/png": "[encoded data removed]",
      "text/plain": [
       "<Figure size 1440x1440 with 1 Axes>"
      ]
     },
     "metadata": {
      "needs_background": "light"
     },
     "output_type": "display_data"
    }
   ],
   "source": [
    "f, ax = plt.subplots(figsize = (20, 20))\n",
    "\n",
    "sns.distplot(train['SalePrice'])"
   ]
  },
  {
   "cell_type": "markdown",
   "metadata": {
    "papermill": {
     "duration": 0.04824,
     "end_time": "2020-09-20T13:19:57.396842",
     "exception": false,
     "start_time": "2020-09-20T13:19:57.348602",
     "status": "completed"
    },
    "tags": []
   },
   "source": [
    "## Missing values distribution in training data"
   ]
  },
  {
   "cell_type": "code",
   "execution_count": 6,
   "metadata": {
    "execution": {
     "iopub.execute_input": "2020-09-20T13:19:57.508669Z",
     "iopub.status.busy": "2020-09-20T13:19:57.50782Z",
     "iopub.status.idle": "2020-09-20T13:19:57.990747Z",
     "shell.execute_reply": "2020-09-20T13:19:57.989996Z"
    },
    "papermill": {
     "duration": 0.546948,
     "end_time": "2020-09-20T13:19:57.99088",
     "exception": false,
     "start_time": "2020-09-20T13:19:57.443932",
     "status": "completed"
    },
    "tags": []
   },
   "outputs": [
    {
     "data": {
      "text/plain": [
       "<matplotlib.axes._subplots.AxesSubplot at 0x1fc10dc79c8>"
      ]
     },
     "execution_count": 6,
     "metadata": {},
     "output_type": "execute_result"
    },
    {
     "data": {
      "image/png": "[encoded data removed]",
      "text/plain": [
       "<Figure size 1440x720 with 1 Axes>"
      ]
     },
     "metadata": {
      "needs_background": "light"
     },
     "output_type": "display_data"
    }
   ],
   "source": [
    "plt.figure(figsize=(20, 10))\n",
    "\n",
    "missing_train = train.isnull().sum()\n",
    "\n",
    "missing_train = missing_train[missing_train > 0]\n",
    "\n",
    "missing_train.sort_values(inplace = True)\n",
    "\n",
    "missing_train.plot.bar()"
   ]
  },
  {
   "cell_type": "markdown",
   "metadata": {
    "papermill": {
     "duration": 0.049535,
     "end_time": "2020-09-20T13:19:58.091748",
     "exception": false,
     "start_time": "2020-09-20T13:19:58.042213",
     "status": "completed"
    },
    "tags": []
   },
   "source": [
    "## A sneak peek at testing data"
   ]
  },
  {
   "cell_type": "code",
   "execution_count": 7,
   "metadata": {
    "execution": {
     "iopub.execute_input": "2020-09-20T13:19:58.224544Z",
     "iopub.status.busy": "2020-09-20T13:19:58.209575Z",
     "iopub.status.idle": "2020-09-20T13:19:58.230508Z",
     "shell.execute_reply": "2020-09-20T13:19:58.231108Z"
    },
    "papermill": {
     "duration": 0.089918,
     "end_time": "2020-09-20T13:19:58.23131",
     "exception": false,
     "start_time": "2020-09-20T13:19:58.141392",
     "status": "completed"
    },
    "tags": []
   },
   "outputs": [
    {
     "data": {
      "text/html": [
       "<div>\n",
       "<style scoped>\n",
       "    .dataframe tbody tr th:only-of-type {\n",
       "        vertical-align: middle;\n",
       "    }\n",
       "\n",
       "    .dataframe tbody tr th {\n",
       "        vertical-align: top;\n",
       "    }\n",
       "\n",
       "    .dataframe thead th {\n",
       "        text-align: right;\n",
       "    }\n",
       "</style>\n",
       "<table border=\"1\" class=\"dataframe\">\n",
       "  <thead>\n",
       "    <tr style=\"text-align: right;\">\n",
       "      <th></th>\n",
       "      <th>Id</th>\n",
       "      <th>MSSubClass</th>\n",
       "      <th>MSZoning</th>\n",
       "      <th>LotFrontage</th>\n",
       "      <th>LotArea</th>\n",
       "      <th>Street</th>\n",
       "      <th>Alley</th>\n",
       "      <th>LotShape</th>\n",
       "      <th>LandContour</th>\n",
       "      <th>Utilities</th>\n",
       "      <th>...</th>\n",
       "      <th>ScreenPorch</th>\n",
       "      <th>PoolArea</th>\n",
       "      <th>PoolQC</th>\n",
       "      <th>Fence</th>\n",
       "      <th>MiscFeature</th>\n",
       "      <th>MiscVal</th>\n",
       "      <th>MoSold</th>\n",
       "      <th>YrSold</th>\n",
       "      <th>SaleType</th>\n",
       "      <th>SaleCondition</th>\n",
       "    </tr>\n",
       "  </thead>\n",
       "  <tbody>\n",
       "    <tr>\n",
       "      <td>0</td>\n",
       "      <td>1461</td>\n",
       "      <td>20</td>\n",
       "      <td>RH</td>\n",
       "      <td>80.0</td>\n",
       "      <td>11622</td>\n",
       "      <td>Pave</td>\n",
       "      <td>NaN</td>\n",
       "      <td>Reg</td>\n",
       "      <td>Lvl</td>\n",
       "      <td>AllPub</td>\n",
       "      <td>...</td>\n",
       "      <td>120</td>\n",
       "      <td>0</td>\n",
       "      <td>NaN</td>\n",
       "      <td>MnPrv</td>\n",
       "      <td>NaN</td>\n",
       "      <td>0</td>\n",
       "      <td>6</td>\n",
       "      <td>2010</td>\n",
       "      <td>WD</td>\n",
       "      <td>Normal</td>\n",
       "    </tr>\n",
       "    <tr>\n",
       "      <td>1</td>\n",
       "      <td>1462</td>\n",
       "      <td>20</td>\n",
       "      <td>RL</td>\n",
       "      <td>81.0</td>\n",
       "      <td>14267</td>\n",
       "      <td>Pave</td>\n",
       "      <td>NaN</td>\n",
       "      <td>IR1</td>\n",
       "      <td>Lvl</td>\n",
       "      <td>AllPub</td>\n",
       "      <td>...</td>\n",
       "      <td>0</td>\n",
       "      <td>0</td>\n",
       "      <td>NaN</td>\n",
       "      <td>NaN</td>\n",
       "      <td>Gar2</td>\n",
       "      <td>12500</td>\n",
       "      <td>6</td>\n",
       "      <td>2010</td>\n",
       "      <td>WD</td>\n",
       "      <td>Normal</td>\n",
       "    </tr>\n",
       "    <tr>\n",
       "      <td>2</td>\n",
       "      <td>1463</td>\n",
       "      <td>60</td>\n",
       "      <td>RL</td>\n",
       "      <td>74.0</td>\n",
       "      <td>13830</td>\n",
       "      <td>Pave</td>\n",
       "      <td>NaN</td>\n",
       "      <td>IR1</td>\n",
       "      <td>Lvl</td>\n",
       "      <td>AllPub</td>\n",
       "      <td>...</td>\n",
       "      <td>0</td>\n",
       "      <td>0</td>\n",
       "      <td>NaN</td>\n",
       "      <td>MnPrv</td>\n",
       "      <td>NaN</td>\n",
       "      <td>0</td>\n",
       "      <td>3</td>\n",
       "      <td>2010</td>\n",
       "      <td>WD</td>\n",
       "      <td>Normal</td>\n",
       "    </tr>\n",
       "    <tr>\n",
       "      <td>3</td>\n",
       "      <td>1464</td>\n",
       "      <td>60</td>\n",
       "      <td>RL</td>\n",
       "      <td>78.0</td>\n",
       "      <td>9978</td>\n",
       "      <td>Pave</td>\n",
       "      <td>NaN</td>\n",
       "      <td>IR1</td>\n",
       "      <td>Lvl</td>\n",
       "      <td>AllPub</td>\n",
       "      <td>...</td>\n",
       "      <td>0</td>\n",
       "      <td>0</td>\n",
       "      <td>NaN</td>\n",
       "      <td>NaN</td>\n",
       "      <td>NaN</td>\n",
       "      <td>0</td>\n",
       "      <td>6</td>\n",
       "      <td>2010</td>\n",
       "      <td>WD</td>\n",
       "      <td>Normal</td>\n",
       "    </tr>\n",
       "    <tr>\n",
       "      <td>4</td>\n",
       "      <td>1465</td>\n",
       "      <td>120</td>\n",
       "      <td>RL</td>\n",
       "      <td>43.0</td>\n",
       "      <td>5005</td>\n",
       "      <td>Pave</td>\n",
       "      <td>NaN</td>\n",
       "      <td>IR1</td>\n",
       "      <td>HLS</td>\n",
       "      <td>AllPub</td>\n",
       "      <td>...</td>\n",
       "      <td>144</td>\n",
       "      <td>0</td>\n",
       "      <td>NaN</td>\n",
       "      <td>NaN</td>\n",
       "      <td>NaN</td>\n",
       "      <td>0</td>\n",
       "      <td>1</td>\n",
       "      <td>2010</td>\n",
       "      <td>WD</td>\n",
       "      <td>Normal</td>\n",
       "    </tr>\n",
       "  </tbody>\n",
       "</table>\n",
       "<p>5 rows × 80 columns</p>\n",
       "</div>"
      ],
      "text/plain": [
       "     Id  MSSubClass MSZoning  LotFrontage  LotArea Street Alley LotShape  \\\n",
       "0  1461          20       RH         80.0    11622   Pave   NaN      Reg   \n",
       "1  1462          20       RL         81.0    14267   Pave   NaN      IR1   \n",
       "2  1463          60       RL         74.0    13830   Pave   NaN      IR1   \n",
       "3  1464          60       RL         78.0     9978   Pave   NaN      IR1   \n",
       "4  1465         120       RL         43.0     5005   Pave   NaN      IR1   \n",
       "\n",
       "  LandContour Utilities  ... ScreenPorch PoolArea PoolQC  Fence MiscFeature  \\\n",
       "0         Lvl    AllPub  ...         120        0    NaN  MnPrv         NaN   \n",
       "1         Lvl    AllPub  ...           0        0    NaN    NaN        Gar2   \n",
       "2         Lvl    AllPub  ...           0        0    NaN  MnPrv         NaN   \n",
       "3         Lvl    AllPub  ...           0        0    NaN    NaN         NaN   \n",
       "4         HLS    AllPub  ...         144        0    NaN    NaN         NaN   \n",
       "\n",
       "  MiscVal MoSold  YrSold  SaleType  SaleCondition  \n",
       "0       0      6    2010        WD         Normal  \n",
       "1   12500      6    2010        WD         Normal  \n",
       "2       0      3    2010        WD         Normal  \n",
       "3       0      6    2010        WD         Normal  \n",
       "4       0      1    2010        WD         Normal  \n",
       "\n",
       "[5 rows x 80 columns]"
      ]
     },
     "execution_count": 7,
     "metadata": {},
     "output_type": "execute_result"
    }
   ],
   "source": [
    "test.head()"
   ]
  },
  {
   "cell_type": "markdown",
   "metadata": {
    "papermill": {
     "duration": 0.05011,
     "end_time": "2020-09-20T13:19:58.331357",
     "exception": false,
     "start_time": "2020-09-20T13:19:58.281247",
     "status": "completed"
    },
    "tags": []
   },
   "source": [
    "## Missing values + data types in testing data"
   ]
  },
  {
   "cell_type": "code",
   "execution_count": 8,
   "metadata": {
    "execution": {
     "iopub.execute_input": "2020-09-20T13:19:58.446657Z",
     "iopub.status.busy": "2020-09-20T13:19:58.445887Z",
     "iopub.status.idle": "2020-09-20T13:19:58.465519Z",
     "shell.execute_reply": "2020-09-20T13:19:58.466544Z"
    },
    "papermill": {
     "duration": 0.085134,
     "end_time": "2020-09-20T13:19:58.466756",
     "exception": false,
     "start_time": "2020-09-20T13:19:58.381622",
     "status": "completed"
    },
    "tags": []
   },
   "outputs": [
    {
     "name": "stdout",
     "output_type": "stream",
     "text": [
      "<class 'pandas.core.frame.DataFrame'>\n",
      "RangeIndex: 1459 entries, 0 to 1458\n",
      "Data columns (total 80 columns):\n",
      "Id               1459 non-null int64\n",
      "MSSubClass       1459 non-null int64\n",
      "MSZoning         1455 non-null object\n",
      "LotFrontage      1232 non-null float64\n",
      "LotArea          1459 non-null int64\n",
      "Street           1459 non-null object\n",
      "Alley            107 non-null object\n",
      "LotShape         1459 non-null object\n",
      "LandContour      1459 non-null object\n",
      "Utilities        1457 non-null object\n",
      "LotConfig        1459 non-null object\n",
      "LandSlope        1459 non-null object\n",
      "Neighborhood     1459 non-null object\n",
      "Condition1       1459 non-null object\n",
      "Condition2       1459 non-null object\n",
      "BldgType         1459 non-null object\n",
      "HouseStyle       1459 non-null object\n",
      "OverallQual      1459 non-null int64\n",
      "OverallCond      1459 non-null int64\n",
      "YearBuilt        1459 non-null int64\n",
      "YearRemodAdd     1459 non-null int64\n",
      "RoofStyle        1459 non-null object\n",
      "RoofMatl         1459 non-null object\n",
      "Exterior1st      1458 non-null object\n",
      "Exterior2nd      1458 non-null object\n",
      "MasVnrType       1443 non-null object\n",
      "MasVnrArea       1444 non-null float64\n",
      "ExterQual        1459 non-null object\n",
      "ExterCond        1459 non-null object\n",
      "Foundation       1459 non-null object\n",
      "BsmtQual         1415 non-null object\n",
      "BsmtCond         1414 non-null object\n",
      "BsmtExposure     1415 non-null object\n",
      "BsmtFinType1     1417 non-null object\n",
      "BsmtFinSF1       1458 non-null float64\n",
      "BsmtFinType2     1417 non-null object\n",
      "BsmtFinSF2       1458 non-null float64\n",
      "BsmtUnfSF        1458 non-null float64\n",
      "TotalBsmtSF      1458 non-null float64\n",
      "Heating          1459 non-null object\n",
      "HeatingQC        1459 non-null object\n",
      "CentralAir       1459 non-null object\n",
      "Electrical       1459 non-null object\n",
      "1stFlrSF         1459 non-null int64\n",
      "2ndFlrSF         1459 non-null int64\n",
      "LowQualFinSF     1459 non-null int64\n",
      "GrLivArea        1459 non-null int64\n",
      "BsmtFullBath     1457 non-null float64\n",
      "BsmtHalfBath     1457 non-null float64\n",
      "FullBath         1459 non-null int64\n",
      "HalfBath         1459 non-null int64\n",
      "BedroomAbvGr     1459 non-null int64\n",
      "KitchenAbvGr     1459 non-null int64\n",
      "KitchenQual      1458 non-null object\n",
      "TotRmsAbvGrd     1459 non-null int64\n",
      "Functional       1457 non-null object\n",
      "Fireplaces       1459 non-null int64\n",
      "FireplaceQu      729 non-null object\n",
      "GarageType       1383 non-null object\n",
      "GarageYrBlt      1381 non-null float64\n",
      "GarageFinish     1381 non-null object\n",
      "GarageCars       1458 non-null float64\n",
      "GarageArea       1458 non-null float64\n",
      "GarageQual       1381 non-null object\n",
      "GarageCond       1381 non-null object\n",
      "PavedDrive       1459 non-null object\n",
      "WoodDeckSF       1459 non-null int64\n",
      "OpenPorchSF      1459 non-null int64\n",
      "EnclosedPorch    1459 non-null int64\n",
      "3SsnPorch        1459 non-null int64\n",
      "ScreenPorch      1459 non-null int64\n",
      "PoolArea         1459 non-null int64\n",
      "PoolQC           3 non-null object\n",
      "Fence            290 non-null object\n",
      "MiscFeature      51 non-null object\n",
      "MiscVal          1459 non-null int64\n",
      "MoSold           1459 non-null int64\n",
      "YrSold           1459 non-null int64\n",
      "SaleType         1458 non-null object\n",
      "SaleCondition    1459 non-null object\n",
      "dtypes: float64(11), int64(26), object(43)\n",
      "memory usage: 912.0+ KB\n"
     ]
    }
   ],
   "source": [
    "test.info()"
   ]
  },
  {
   "cell_type": "markdown",
   "metadata": {
    "papermill": {
     "duration": 0.049945,
     "end_time": "2020-09-20T13:19:58.568083",
     "exception": false,
     "start_time": "2020-09-20T13:19:58.518138",
     "status": "completed"
    },
    "tags": []
   },
   "source": [
    "## Missing values distribution in testing dataset"
   ]
  },
  {
   "cell_type": "code",
   "execution_count": 9,
   "metadata": {
    "execution": {
     "iopub.execute_input": "2020-09-20T13:19:58.704638Z",
     "iopub.status.busy": "2020-09-20T13:19:58.688763Z",
     "iopub.status.idle": "2020-09-20T13:19:59.09523Z",
     "shell.execute_reply": "2020-09-20T13:19:59.094439Z"
    },
    "papermill": {
     "duration": 0.475941,
     "end_time": "2020-09-20T13:19:59.09539",
     "exception": false,
     "start_time": "2020-09-20T13:19:58.619449",
     "status": "completed"
    },
    "tags": []
   },
   "outputs": [
    {
     "data": {
      "text/plain": [
       "<matplotlib.axes._subplots.AxesSubplot at 0x1fc10614c88>"
      ]
     },
     "execution_count": 9,
     "metadata": {},
     "output_type": "execute_result"
    },
    {
     "data": {
      "image/png": "[encoded data removed]",
      "text/plain": [
       "<Figure size 1440x720 with 1 Axes>"
      ]
     },
     "metadata": {
      "needs_background": "light"
     },
     "output_type": "display_data"
    }
   ],
   "source": [
    "plt.figure(figsize=(20, 10))\n",
    "\n",
    "missing_test = test.isnull().sum()\n",
    "\n",
    "missing_test = missing_test[missing_test > 0]\n",
    "\n",
    "missing_test.sort_values(inplace = True)\n",
    "\n",
    "missing_test.plot.bar()"
   ]
  },
  {
   "cell_type": "markdown",
   "metadata": {
    "papermill": {
     "duration": 0.053344,
     "end_time": "2020-09-20T13:19:59.201727",
     "exception": false,
     "start_time": "2020-09-20T13:19:59.148383",
     "status": "completed"
    },
    "tags": []
   },
   "source": [
    "## Pearson correlations matrix for numeric features in training data"
   ]
  },
  {
   "cell_type": "code",
   "execution_count": 10,
   "metadata": {
    "execution": {
     "iopub.execute_input": "2020-09-20T13:19:59.316352Z",
     "iopub.status.busy": "2020-09-20T13:19:59.315471Z",
     "iopub.status.idle": "2020-09-20T13:20:00.28061Z",
     "shell.execute_reply": "2020-09-20T13:20:00.279821Z"
    },
    "papermill": {
     "duration": 1.025591,
     "end_time": "2020-09-20T13:20:00.280748",
     "exception": false,
     "start_time": "2020-09-20T13:19:59.255157",
     "status": "completed"
    },
    "tags": []
   },
   "outputs": [
    {
     "data": {
      "text/plain": [
       "<matplotlib.axes._subplots.AxesSubplot at 0x1fc1071bb48>"
      ]
     },
     "execution_count": 10,
     "metadata": {},
     "output_type": "execute_result"
    },
    {
     "data": {
      "image/png": "[encoded data removed]",
      "text/plain": [
       "<Figure size 1440x1440 with 2 Axes>"
      ]
     },
     "metadata": {
      "needs_background": "light"
     },
     "output_type": "display_data"
    }
   ],
   "source": [
    "correlation_matrix = train.corr()\n",
    "\n",
    "f, ax = plt.subplots(figsize=(20, 20))\n",
    "\n",
    "sns.heatmap(correlation_matrix)"
   ]
  },
  {
   "cell_type": "markdown",
   "metadata": {
    "papermill": {
     "duration": 0.058836,
     "end_time": "2020-09-20T13:20:00.395279",
     "exception": false,
     "start_time": "2020-09-20T13:20:00.336443",
     "status": "completed"
    },
    "tags": []
   },
   "source": [
    "## Limit features to the 5 most correlated"
   ]
  },
  {
   "cell_type": "code",
   "execution_count": 11,
   "metadata": {
    "execution": {
     "iopub.execute_input": "2020-09-20T13:20:00.518505Z",
     "iopub.status.busy": "2020-09-20T13:20:00.517406Z",
     "iopub.status.idle": "2020-09-20T13:20:00.881111Z",
     "shell.execute_reply": "2020-09-20T13:20:00.880342Z"
    },
    "papermill": {
     "duration": 0.430916,
     "end_time": "2020-09-20T13:20:00.881251",
     "exception": false,
     "start_time": "2020-09-20T13:20:00.450335",
     "status": "completed"
    },
    "tags": []
   },
   "outputs": [
    {
     "data": {
      "image/png": "[encoded data removed]",
      "text/plain": [
       "<Figure size 1440x1440 with 2 Axes>"
      ]
     },
     "metadata": {
      "needs_background": "light"
     },
     "output_type": "display_data"
    }
   ],
   "source": [
    "k = 5\n",
    "\n",
    "columns = correlation_matrix.nlargest(k, 'SalePrice')['SalePrice'].index\n",
    "\n",
    "correlation_matrix = np.corrcoef(train[columns].values.T)\n",
    "\n",
    "f, ax = plt.subplots(figsize=(20, 20))\n",
    "\n",
    "heatmap = sns.heatmap(correlation_matrix, cbar = True, annot = True, square = True, yticklabels = columns.values, xticklabels = columns.values)\n",
    "\n",
    "plt.show()"
   ]
  },
  {
   "cell_type": "markdown",
   "metadata": {
    "papermill": {
     "duration": 0.05767,
     "end_time": "2020-09-20T13:20:00.995648",
     "exception": false,
     "start_time": "2020-09-20T13:20:00.937978",
     "status": "completed"
    },
    "tags": []
   },
   "source": [
    "## Save IDs separately"
   ]
  },
  {
   "cell_type": "code",
   "execution_count": 12,
   "metadata": {
    "execution": {
     "iopub.execute_input": "2020-09-20T13:20:01.120065Z",
     "iopub.status.busy": "2020-09-20T13:20:01.118894Z",
     "iopub.status.idle": "2020-09-20T13:20:01.12253Z",
     "shell.execute_reply": "2020-09-20T13:20:01.123098Z"
    },
    "papermill": {
     "duration": 0.068489,
     "end_time": "2020-09-20T13:20:01.123286",
     "exception": false,
     "start_time": "2020-09-20T13:20:01.054797",
     "status": "completed"
    },
    "tags": []
   },
   "outputs": [],
   "source": [
    "testID = test['Id']"
   ]
  },
  {
   "cell_type": "markdown",
   "metadata": {
    "papermill": {
     "duration": 0.05672,
     "end_time": "2020-09-20T13:20:01.237242",
     "exception": false,
     "start_time": "2020-09-20T13:20:01.180522",
     "status": "completed"
    },
    "tags": []
   },
   "source": [
    "## Simple helper to replace missing values: mode for strings & median for numerics"
   ]
  },
  {
   "cell_type": "code",
   "execution_count": 13,
   "metadata": {
    "execution": {
     "iopub.execute_input": "2020-09-20T13:20:01.366988Z",
     "iopub.status.busy": "2020-09-20T13:20:01.361787Z",
     "iopub.status.idle": "2020-09-20T13:20:01.438381Z",
     "shell.execute_reply": "2020-09-20T13:20:01.437561Z"
    },
    "papermill": {
     "duration": 0.144408,
     "end_time": "2020-09-20T13:20:01.438513",
     "exception": false,
     "start_time": "2020-09-20T13:20:01.294105",
     "status": "completed"
    },
    "tags": []
   },
   "outputs": [],
   "source": [
    "for c in train:\n",
    "    if train[c].dtype == 'object':\n",
    "        train[c] = train[c].fillna(train[c].mode())\n",
    "    else:\n",
    "        train[c] = train[c].fillna(train[c].median())"
   ]
  },
  {
   "cell_type": "markdown",
   "metadata": {
    "papermill": {
     "duration": 0.057591,
     "end_time": "2020-09-20T13:20:01.55418",
     "exception": false,
     "start_time": "2020-09-20T13:20:01.496589",
     "status": "completed"
    },
    "tags": []
   },
   "source": [
    "## Label encoding helper"
   ]
  },
  {
   "cell_type": "code",
   "execution_count": 14,
   "metadata": {
    "execution": {
     "iopub.execute_input": "2020-09-20T13:20:01.682362Z",
     "iopub.status.busy": "2020-09-20T13:20:01.681284Z",
     "iopub.status.idle": "2020-09-20T13:20:01.68494Z",
     "shell.execute_reply": "2020-09-20T13:20:01.685536Z"
    },
    "papermill": {
     "duration": 0.073859,
     "end_time": "2020-09-20T13:20:01.685755",
     "exception": false,
     "start_time": "2020-09-20T13:20:01.611896",
     "status": "completed"
    },
    "tags": []
   },
   "outputs": [],
   "source": [
    "def label_encoding(df_train, df_test):\n",
    "    le_count = 0\n",
    "    \n",
    "    for col in df_train:\n",
    "        if df_train[col].dtype == 'object':\n",
    "            if len(list(df_train[col].unique())) <= 2:\n",
    "                le = LabelEncoder()\n",
    "                le.fit(list(df_train[col].unique())+list(df_test[col].unique()))\n",
    "\n",
    "                df_train[col] = le.transform(df_train[col].astype(str))\n",
    "                df_test[col] = le.transform(df_test[col].astype(str))\n",
    "                le_count +=1;\n",
    "               \n",
    "    \n",
    "    print(\"Total label encoded columns : %d \" %le_count)"
   ]
  },
  {
   "cell_type": "markdown",
   "metadata": {
    "papermill": {
     "duration": 0.058134,
     "end_time": "2020-09-20T13:20:01.803183",
     "exception": false,
     "start_time": "2020-09-20T13:20:01.745049",
     "status": "completed"
    },
    "tags": []
   },
   "source": [
    "## Label encoding"
   ]
  },
  {
   "cell_type": "code",
   "execution_count": 15,
   "metadata": {
    "execution": {
     "iopub.execute_input": "2020-09-20T13:20:01.941553Z",
     "iopub.status.busy": "2020-09-20T13:20:01.937771Z",
     "iopub.status.idle": "2020-09-20T13:20:01.965628Z",
     "shell.execute_reply": "2020-09-20T13:20:01.964981Z"
    },
    "papermill": {
     "duration": 0.103917,
     "end_time": "2020-09-20T13:20:01.965764",
     "exception": false,
     "start_time": "2020-09-20T13:20:01.861847",
     "status": "completed"
    },
    "tags": []
   },
   "outputs": [
    {
     "name": "stdout",
     "output_type": "stream",
     "text": [
      "Total label encoded columns : 3 \n"
     ]
    },
    {
     "data": {
      "text/plain": [
       "((1460, 81), (1459, 80))"
      ]
     },
     "execution_count": 15,
     "metadata": {},
     "output_type": "execute_result"
    }
   ],
   "source": [
    "label_encoding(train, test)\n",
    "\n",
    "train.shape, test.shape"
   ]
  },
  {
   "cell_type": "markdown",
   "metadata": {
    "papermill": {
     "duration": 0.058134,
     "end_time": "2020-09-20T13:20:02.083881",
     "exception": false,
     "start_time": "2020-09-20T13:20:02.025747",
     "status": "completed"
    },
    "tags": []
   },
   "source": [
    "## Concatenate train + test and convert categoricals to dummies"
   ]
  },
  {
   "cell_type": "code",
   "execution_count": null,
   "metadata": {
    "execution": {
     "iopub.execute_input": "2020-09-20T13:20:02.212201Z",
     "iopub.status.busy": "2020-09-20T13:20:02.211094Z",
     "iopub.status.idle": "2020-09-20T13:20:02.306775Z",
     "shell.execute_reply": "2020-09-20T13:20:02.305974Z"
    },
    "papermill": {
     "duration": 0.162512,
     "end_time": "2020-09-20T13:20:02.306944",
     "exception": false,
     "start_time": "2020-09-20T13:20:02.144432",
     "status": "completed"
    },
    "tags": []
   },
   "outputs": [],
   "source": [
    "train_len = len(train)\n",
    "\n",
    "data = pd.concat(objs = [train, test], axis = 0)\n",
    "\n",
    "data = pd.get_dummies(data)"
   ]
  },
  {
   "cell_type": "markdown",
   "metadata": {
    "papermill": {
     "duration": 0.059232,
     "end_time": "2020-09-20T13:20:02.427376",
     "exception": false,
     "start_time": "2020-09-20T13:20:02.368144",
     "status": "completed"
    },
    "tags": []
   },
   "source": [
    "## Reverse concat"
   ]
  },
  {
   "cell_type": "code",
   "execution_count": null,
   "metadata": {
    "execution": {
     "iopub.execute_input": "2020-09-20T13:20:02.555691Z",
     "iopub.status.busy": "2020-09-20T13:20:02.554758Z",
     "iopub.status.idle": "2020-09-20T13:20:02.653628Z",
     "shell.execute_reply": "2020-09-20T13:20:02.652795Z"
    },
    "papermill": {
     "duration": 0.166423,
     "end_time": "2020-09-20T13:20:02.653767",
     "exception": false,
     "start_time": "2020-09-20T13:20:02.487344",
     "status": "completed"
    },
    "tags": []
   },
   "outputs": [],
   "source": [
    "train = copy.copy(data[:train_len])\n",
    "\n",
    "test = copy.copy(data[train_len:])\n",
    "\n",
    "test = test.drop(['SalePrice'], axis = 1)"
   ]
  },
  {
   "cell_type": "code",
   "execution_count": null,
   "metadata": {
    "execution": {
     "iopub.execute_input": "2020-09-20T13:20:02.780221Z",
     "iopub.status.busy": "2020-09-20T13:20:02.779319Z",
     "iopub.status.idle": "2020-09-20T13:20:02.784875Z",
     "shell.execute_reply": "2020-09-20T13:20:02.784089Z"
    },
    "papermill": {
     "duration": 0.072152,
     "end_time": "2020-09-20T13:20:02.78503",
     "exception": false,
     "start_time": "2020-09-20T13:20:02.712878",
     "status": "completed"
    },
    "tags": []
   },
   "outputs": [],
   "source": [
    "train.shape, test.shape"
   ]
  },
  {
   "cell_type": "markdown",
   "metadata": {
    "papermill": {
     "duration": 0.060539,
     "end_time": "2020-09-20T13:20:02.90572",
     "exception": false,
     "start_time": "2020-09-20T13:20:02.845181",
     "status": "completed"
    },
    "tags": []
   },
   "source": [
    "## Numeric features filtering with Pearson > 0.05"
   ]
  },
  {
   "cell_type": "code",
   "execution_count": null,
   "metadata": {
    "execution": {
     "iopub.execute_input": "2020-09-20T13:20:03.034198Z",
     "iopub.status.busy": "2020-09-20T13:20:03.03334Z",
     "iopub.status.idle": "2020-09-20T13:20:03.046599Z",
     "shell.execute_reply": "2020-09-20T13:20:03.0458Z"
    },
    "papermill": {
     "duration": 0.081164,
     "end_time": "2020-09-20T13:20:03.046726",
     "exception": false,
     "start_time": "2020-09-20T13:20:02.965562",
     "status": "completed"
    },
    "tags": []
   },
   "outputs": [],
   "source": [
    "corr = train.corr().sort_values('SalePrice')\n",
    "\n",
    "cols = corr['SalePrice'][corr['SalePrice'].values > 0.05].index.values\n",
    "\n",
    "len(cols)"
   ]
  },
  {
   "cell_type": "markdown",
   "metadata": {
    "papermill": {
     "duration": 0.06102,
     "end_time": "2020-09-20T13:20:03.170162",
     "exception": false,
     "start_time": "2020-09-20T13:20:03.109142",
     "status": "completed"
    },
    "tags": []
   },
   "source": [
    "## Save labels separately"
   ]
  },
  {
   "cell_type": "code",
   "execution_count": null,
   "metadata": {
    "execution": {
     "iopub.execute_input": "2020-09-20T13:20:03.314979Z",
     "iopub.status.busy": "2020-09-20T13:20:03.314142Z",
     "iopub.status.idle": "2020-09-20T13:20:03.31837Z",
     "shell.execute_reply": "2020-09-20T13:20:03.317631Z"
    },
    "papermill": {
     "duration": 0.086979,
     "end_time": "2020-09-20T13:20:03.31851",
     "exception": false,
     "start_time": "2020-09-20T13:20:03.231531",
     "status": "completed"
    },
    "tags": []
   },
   "outputs": [],
   "source": [
    "train_label = train['SalePrice']\n",
    "\n",
    "cols = np.delete(cols, len(cols) - 1)\n",
    "\n",
    "train_sample = train[cols]\n",
    "\n",
    "test_sample = test[cols]"
   ]
  },
  {
   "cell_type": "markdown",
   "metadata": {
    "papermill": {
     "duration": 0.060693,
     "end_time": "2020-09-20T13:20:03.454279",
     "exception": false,
     "start_time": "2020-09-20T13:20:03.393586",
     "status": "completed"
    },
    "tags": []
   },
   "source": [
    "## Just checking"
   ]
  },
  {
   "cell_type": "code",
   "execution_count": null,
   "metadata": {
    "execution": {
     "iopub.execute_input": "2020-09-20T13:20:03.611871Z",
     "iopub.status.busy": "2020-09-20T13:20:03.610871Z",
     "iopub.status.idle": "2020-09-20T13:20:03.616382Z",
     "shell.execute_reply": "2020-09-20T13:20:03.616956Z"
    },
    "papermill": {
     "duration": 0.095878,
     "end_time": "2020-09-20T13:20:03.617146",
     "exception": false,
     "start_time": "2020-09-20T13:20:03.521268",
     "status": "completed"
    },
    "tags": []
   },
   "outputs": [],
   "source": [
    "test_sample.head()"
   ]
  },
  {
   "cell_type": "code",
   "execution_count": null,
   "metadata": {
    "execution": {
     "iopub.execute_input": "2020-09-20T13:20:03.767157Z",
     "iopub.status.busy": "2020-09-20T13:20:03.756172Z",
     "iopub.status.idle": "2020-09-20T13:20:03.772799Z",
     "shell.execute_reply": "2020-09-20T13:20:03.773404Z"
    },
    "papermill": {
     "duration": 0.093941,
     "end_time": "2020-09-20T13:20:03.773606",
     "exception": false,
     "start_time": "2020-09-20T13:20:03.679665",
     "status": "completed"
    },
    "tags": []
   },
   "outputs": [],
   "source": [
    "train_sample.head()"
   ]
  },
  {
   "cell_type": "markdown",
   "metadata": {
    "papermill": {
     "duration": 0.06499,
     "end_time": "2020-09-20T13:20:03.903167",
     "exception": false,
     "start_time": "2020-09-20T13:20:03.838177",
     "status": "completed"
    },
    "tags": []
   },
   "source": [
    "## Very simple median imputation for our features"
   ]
  },
  {
   "cell_type": "code",
   "execution_count": null,
   "metadata": {
    "execution": {
     "iopub.execute_input": "2020-09-20T13:20:04.041291Z",
     "iopub.status.busy": "2020-09-20T13:20:04.040431Z",
     "iopub.status.idle": "2020-09-20T13:20:04.05484Z",
     "shell.execute_reply": "2020-09-20T13:20:04.054206Z"
    },
    "papermill": {
     "duration": 0.088019,
     "end_time": "2020-09-20T13:20:04.055016",
     "exception": false,
     "start_time": "2020-09-20T13:20:03.966997",
     "status": "completed"
    },
    "tags": []
   },
   "outputs": [],
   "source": [
    "imputer = SimpleImputer(strategy = 'median')\n",
    "\n",
    "imputer.fit(train_sample)\n",
    "\n",
    "train_sample = imputer.transform(train_sample)\n",
    "test_sample = imputer.transform(test_sample)"
   ]
  },
  {
   "cell_type": "markdown",
   "metadata": {
    "papermill": {
     "duration": 0.063761,
     "end_time": "2020-09-20T13:20:04.182645",
     "exception": false,
     "start_time": "2020-09-20T13:20:04.118884",
     "status": "completed"
    },
    "tags": []
   },
   "source": [
    "## Normalization"
   ]
  },
  {
   "cell_type": "code",
   "execution_count": null,
   "metadata": {
    "execution": {
     "iopub.execute_input": "2020-09-20T13:20:04.321105Z",
     "iopub.status.busy": "2020-09-20T13:20:04.319824Z",
     "iopub.status.idle": "2020-09-20T13:20:04.327549Z",
     "shell.execute_reply": "2020-09-20T13:20:04.326688Z"
    },
    "papermill": {
     "duration": 0.081346,
     "end_time": "2020-09-20T13:20:04.327697",
     "exception": false,
     "start_time": "2020-09-20T13:20:04.246351",
     "status": "completed"
    },
    "tags": []
   },
   "outputs": [],
   "source": [
    "scaler = StandardScaler()\n",
    "\n",
    "scaler.fit(train_sample)\n",
    "\n",
    "train_sample = scaler.transform(train_sample)\n",
    "test_sample = scaler.transform(test_sample)"
   ]
  },
  {
   "cell_type": "markdown",
   "metadata": {
    "papermill": {
     "duration": 0.062561,
     "end_time": "2020-09-20T13:20:04.514318",
     "exception": false,
     "start_time": "2020-09-20T13:20:04.451757",
     "status": "completed"
    },
    "tags": []
   },
   "source": [
    "## 80/20 training/validation split"
   ]
  },
  {
   "cell_type": "code",
   "execution_count": null,
   "metadata": {
    "execution": {
     "iopub.execute_input": "2020-09-20T13:20:04.653795Z",
     "iopub.status.busy": "2020-09-20T13:20:04.652982Z",
     "iopub.status.idle": "2020-09-20T13:20:04.658127Z",
     "shell.execute_reply": "2020-09-20T13:20:04.657337Z"
    },
    "papermill": {
     "duration": 0.076159,
     "end_time": "2020-09-20T13:20:04.658292",
     "exception": false,
     "start_time": "2020-09-20T13:20:04.582133",
     "status": "completed"
    },
    "tags": []
   },
   "outputs": [],
   "source": [
    "X_train, X_test , y_train, y_test = train_test_split(train_sample, train_label, train_size = 0.8, random_state = 64)"
   ]
  },
  {
   "cell_type": "code",
   "execution_count": null,
   "metadata": {
    "execution": {
     "iopub.execute_input": "2020-09-20T13:20:04.792773Z",
     "iopub.status.busy": "2020-09-20T13:20:04.791747Z",
     "iopub.status.idle": "2020-09-20T13:20:04.797561Z",
     "shell.execute_reply": "2020-09-20T13:20:04.796815Z"
    },
    "papermill": {
     "duration": 0.076231,
     "end_time": "2020-09-20T13:20:04.797711",
     "exception": false,
     "start_time": "2020-09-20T13:20:04.72148",
     "status": "completed"
    },
    "tags": []
   },
   "outputs": [],
   "source": [
    "X_train.shape, X_test.shape, test_sample.shape"
   ]
  },
  {
   "cell_type": "markdown",
   "metadata": {
    "papermill": {
     "duration": 0.063631,
     "end_time": "2020-09-20T13:20:04.92507",
     "exception": false,
     "start_time": "2020-09-20T13:20:04.861439",
     "status": "completed"
    },
    "tags": []
   },
   "source": [
    "## For modeling, we chose our favourite Random Forest!"
   ]
  },
  {
   "cell_type": "code",
   "execution_count": null,
   "metadata": {
    "execution": {
     "iopub.execute_input": "2020-09-20T13:20:05.061579Z",
     "iopub.status.busy": "2020-09-20T13:20:05.060547Z",
     "iopub.status.idle": "2020-09-20T13:20:05.06484Z",
     "shell.execute_reply": "2020-09-20T13:20:05.064049Z"
    },
    "papermill": {
     "duration": 0.076011,
     "end_time": "2020-09-20T13:20:05.065002",
     "exception": false,
     "start_time": "2020-09-20T13:20:04.988991",
     "status": "completed"
    },
    "tags": []
   },
   "outputs": [],
   "source": [
    "rf = RandomForestRegressor(n_estimators = 10000, random_state = 64)"
   ]
  },
  {
   "cell_type": "markdown",
   "metadata": {
    "papermill": {
     "duration": 0.064547,
     "end_time": "2020-09-20T13:20:05.194636",
     "exception": false,
     "start_time": "2020-09-20T13:20:05.130089",
     "status": "completed"
    },
    "tags": []
   },
   "source": [
    "## Let's fit our model!"
   ]
  },
  {
   "cell_type": "code",
   "execution_count": null,
   "metadata": {
    "execution": {
     "iopub.execute_input": "2020-09-20T13:20:05.350147Z",
     "iopub.status.busy": "2020-09-20T13:20:05.344725Z",
     "iopub.status.idle": "2020-09-20T13:20:17.627606Z",
     "shell.execute_reply": "2020-09-20T13:20:17.626795Z"
    },
    "papermill": {
     "duration": 12.36905,
     "end_time": "2020-09-20T13:20:17.627791",
     "exception": false,
     "start_time": "2020-09-20T13:20:05.258741",
     "status": "completed"
    },
    "tags": []
   },
   "outputs": [],
   "source": [
    "rf.fit(X_train, y_train)"
   ]
  },
  {
   "cell_type": "markdown",
   "metadata": {
    "papermill": {
     "duration": 0.065703,
     "end_time": "2020-09-20T13:20:17.75909",
     "exception": false,
     "start_time": "2020-09-20T13:20:17.693387",
     "status": "completed"
    },
    "tags": []
   },
   "source": [
    "## R^2 metric for our predictions in training set"
   ]
  },
  {
   "cell_type": "code",
   "execution_count": null,
   "metadata": {
    "execution": {
     "iopub.execute_input": "2020-09-20T13:20:17.898505Z",
     "iopub.status.busy": "2020-09-20T13:20:17.897569Z",
     "iopub.status.idle": "2020-09-20T13:20:18.187061Z",
     "shell.execute_reply": "2020-09-20T13:20:18.186284Z"
    },
    "papermill": {
     "duration": 0.361458,
     "end_time": "2020-09-20T13:20:18.187214",
     "exception": false,
     "start_time": "2020-09-20T13:20:17.825756",
     "status": "completed"
    },
    "tags": []
   },
   "outputs": [],
   "source": [
    "rf.score(X_train, y_train)"
   ]
  },
  {
   "cell_type": "markdown",
   "metadata": {
    "papermill": {
     "duration": 0.065089,
     "end_time": "2020-09-20T13:20:18.317621",
     "exception": false,
     "start_time": "2020-09-20T13:20:18.252532",
     "status": "completed"
    },
    "tags": []
   },
   "source": [
    "## Predict!"
   ]
  },
  {
   "cell_type": "code",
   "execution_count": null,
   "metadata": {
    "execution": {
     "iopub.execute_input": "2020-09-20T13:20:18.456232Z",
     "iopub.status.busy": "2020-09-20T13:20:18.455112Z",
     "iopub.status.idle": "2020-09-20T13:20:18.672224Z",
     "shell.execute_reply": "2020-09-20T13:20:18.671536Z"
    },
    "papermill": {
     "duration": 0.28893,
     "end_time": "2020-09-20T13:20:18.672362",
     "exception": false,
     "start_time": "2020-09-20T13:20:18.383432",
     "status": "completed"
    },
    "tags": []
   },
   "outputs": [],
   "source": [
    "y_pred = rf.predict(X_test)"
   ]
  },
  {
   "cell_type": "markdown",
   "metadata": {
    "papermill": {
     "duration": 0.09579,
     "end_time": "2020-09-20T13:20:18.837852",
     "exception": false,
     "start_time": "2020-09-20T13:20:18.742062",
     "status": "completed"
    },
    "tags": []
   },
   "source": [
    "## Actual VS Predicted visualization"
   ]
  },
  {
   "cell_type": "code",
   "execution_count": null,
   "metadata": {
    "execution": {
     "iopub.execute_input": "2020-09-20T13:20:19.019676Z",
     "iopub.status.busy": "2020-09-20T13:20:19.018713Z",
     "iopub.status.idle": "2020-09-20T13:20:19.259266Z",
     "shell.execute_reply": "2020-09-20T13:20:19.258501Z"
    },
    "papermill": {
     "duration": 0.332152,
     "end_time": "2020-09-20T13:20:19.259401",
     "exception": false,
     "start_time": "2020-09-20T13:20:18.927249",
     "status": "completed"
    },
    "tags": []
   },
   "outputs": [],
   "source": [
    "plt.figure(figsize = (16, 16))\n",
    "plt.scatter(y_test, y_pred)\n",
    "plt.title('Actual vs Predicted')\n",
    "plt.xlabel('Actual Sale Price')\n",
    "plt.ylabel('Predicted Sale Price')\n",
    "\n",
    "plt.plot()"
   ]
  },
  {
   "cell_type": "markdown",
   "metadata": {
    "papermill": {
     "duration": 0.067777,
     "end_time": "2020-09-20T13:20:19.393857",
     "exception": false,
     "start_time": "2020-09-20T13:20:19.32608",
     "status": "completed"
    },
    "tags": []
   },
   "source": [
    "## Ready to submit..."
   ]
  },
  {
   "cell_type": "code",
   "execution_count": null,
   "metadata": {
    "execution": {
     "iopub.execute_input": "2020-09-20T13:20:19.534424Z",
     "iopub.status.busy": "2020-09-20T13:20:19.53358Z",
     "iopub.status.idle": "2020-09-20T13:20:19.886077Z",
     "shell.execute_reply": "2020-09-20T13:20:19.885313Z"
    },
    "papermill": {
     "duration": 0.425702,
     "end_time": "2020-09-20T13:20:19.886232",
     "exception": false,
     "start_time": "2020-09-20T13:20:19.46053",
     "status": "completed"
    },
    "tags": []
   },
   "outputs": [],
   "source": [
    "test_pred = rf.predict(test_sample)\n",
    "\n",
    "submission = pd.DataFrame()\n",
    "\n",
    "submission['ID'] = testID\n",
    "\n",
    "submission['SalePrice'] = test_pred"
   ]
  },
  {
   "cell_type": "markdown",
   "metadata": {
    "papermill": {
     "duration": 0.067004,
     "end_time": "2020-09-20T13:20:20.021053",
     "exception": false,
     "start_time": "2020-09-20T13:20:19.954049",
     "status": "completed"
    },
    "tags": []
   },
   "source": [
    "## Final submission"
   ]
  },
  {
   "cell_type": "code",
   "execution_count": null,
   "metadata": {
    "execution": {
     "iopub.execute_input": "2020-09-20T13:20:20.167772Z",
     "iopub.status.busy": "2020-09-20T13:20:20.166859Z",
     "iopub.status.idle": "2020-09-20T13:20:20.495469Z",
     "shell.execute_reply": "2020-09-20T13:20:20.494759Z"
    },
    "papermill": {
     "duration": 0.404446,
     "end_time": "2020-09-20T13:20:20.495613",
     "exception": false,
     "start_time": "2020-09-20T13:20:20.091167",
     "status": "completed"
    },
    "tags": []
   },
   "outputs": [],
   "source": [
    "submission.head()\n",
    "\n",
    "submission.to_csv('house_prices_random_forest_submission.csv', index = False)"
   ]
  }
 ],
 "metadata": {
  "kernelspec": {
   "display_name": "Python 3",
   "language": "python",
   "name": "python3"
  },
  "language_info": {
   "codemirror_mode": {
    "name": "ipython",
    "version": 3
   },
   "file_extension": ".py",
   "mimetype": "text/x-python",
   "name": "python",
   "nbconvert_exporter": "python",
   "pygments_lexer": "ipython3",
   "version": "3.7.4"
  }
 },
 "nbformat": 4,
 "nbformat_minor": 4
}
